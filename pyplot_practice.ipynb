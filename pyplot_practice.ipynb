{
  "nbformat": 4,
  "nbformat_minor": 0,
  "metadata": {
    "colab": {
      "provenance": []
    },
    "kernelspec": {
      "name": "python3",
      "display_name": "Python 3"
    },
    "language_info": {
      "name": "python"
    }
  },
  "cells": [
    {
      "cell_type": "markdown",
      "metadata": {
        "id": "83TyjX_5WR-G"
      },
      "source": [
        "**In Class Exercise 1**\n"
      ]
    },
    {
      "cell_type": "markdown",
      "metadata": {
        "id": "2lDsMAxqifUU"
      },
      "source": [
        "**1) The following code creates a line chart of the given data. However, it is missing axis labels and a title. Add these to the chart.** "
      ]
    },
    {
      "cell_type": "code",
      "metadata": {
        "id": "jhH1yFr5WObo",
        "outputId": "b211b77a-1823-40fb-bbf4-0f7d4d625d7d",
        "colab": {
          "base_uri": "https://localhost:8080/",
          "height": 279
        }
      },
      "source": [
        "import matplotlib.pyplot as plt\n",
        " \n",
        "x  = [1, 2, 3, 4, 5, 6, 7, 8, 9]\n",
        "y1 = [1, 4, 9, 16, 25, 36, 49, 64, 81]\n",
        "\n",
        "plt.plot(x, y1, label=\"line L\")\n",
        "plt.plot()\n",
        "\n",
        "# add axis labels and a title here \n",
        "plt.xlabel(\"X Axis\")\n",
        "plt.ylabel(\"Y Axis\")\n",
        "\n",
        "plt.legend()\n",
        "plt.show()"
      ],
      "execution_count": 1,
      "outputs": [
        {
          "output_type": "display_data",
          "data": {
            "text/plain": [
              "<Figure size 432x288 with 1 Axes>"
            ],
            "image/png": "[encoded data removed]"
          },
          "metadata": {
            "needs_background": "light"
          }
        }
      ]
    },
    {
      "cell_type": "markdown",
      "metadata": {
        "id": "sFu5F2qHh4zT"
      },
      "source": [
        "**2) Complete the missing parts of following code cell to create a red bar chart of the same data as above. The colour red should be indicated by the letter 'r'.**"
      ]
    },
    {
      "cell_type": "code",
      "metadata": {
        "id": "m7qbETkrgh-d",
        "outputId": "53da4460-953c-4f83-f718-ced89d79426d",
        "colab": {
          "base_uri": "https://localhost:8080/",
          "height": 295
        }
      },
      "source": [
        "import matplotlib.pyplot as plt\n",
        " \n",
        "x  = [1, 2, 3, 4, 5, 6, 7, 8, 9]\n",
        "y1 = [1, 4, 9, 16, 25, 36, 49, 64, 81]\n",
        "\n",
        "# Plot the same data as above, but using a bar chart\n",
        "plt.bar(x, y1, label=\"Red Bar\", color = 'r' )\n",
        "plt.plot()\n",
        "\n",
        "plt.xlabel(\"bar number\")\n",
        "plt.ylabel(\"Values\")\n",
        "\n",
        "plt.title(\"Bar Chart Example\")\n",
        "plt.legend()\n",
        "plt.show()"
      ],
      "execution_count": 4,
      "outputs": [
        {
          "output_type": "display_data",
          "data": {
            "text/plain": [
              "<Figure size 432x288 with 1 Axes>"
            ],
            "image/png": "[encoded data removed]"
          },
          "metadata": {
            "needs_background": "light"
          }
        }
      ]
    },
    {
      "cell_type": "markdown",
      "metadata": {
        "id": "PK6RxDVihpql"
      },
      "source": [
        "**3) Write a complete code cell to plot the same data as above using a scatter plot. The points should be represented as green stars (stars are represented using the symbol *). Don't forget axis titles!**"
      ]
    },
    {
      "cell_type": "code",
      "metadata": {
        "id": "pChtnThOj1J4",
        "outputId": "e2854af4-5b26-4263-c50c-c1bc41328e1e",
        "colab": {
          "base_uri": "https://localhost:8080/",
          "height": 295
        }
      },
      "source": [
        "import matplotlib.pyplot as plt\n",
        "\n",
        "x  = [1, 2, 3, 4, 5, 6, 7, 8, 9]\n",
        "y1 = [1, 4, 9, 16, 25, 36, 49, 64, 81]\n",
        "\n",
        "plt.scatter(x, y1, marker = '*', color = 'g')\n",
        "\n",
        "plt.title('Scatter Plot')\n",
        "plt.xlabel('X Axis')\n",
        "plt.ylabel('Y Axis')\n",
        "plt.show()"
      ],
      "execution_count": 8,
      "outputs": [
        {
          "output_type": "display_data",
          "data": {
            "text/plain": [
              "<Figure size 432x288 with 1 Axes>"
            ],
            "image/png": "[encoded data removed]"
          },
          "metadata": {
            "needs_background": "light"
          }
        }
      ]
    },
    {
      "cell_type": "markdown",
      "metadata": {
        "id": "AxXAj_4XlFWd"
      },
      "source": [
        "**4) Generate a histogram of 2000 samples from a standard normal distribution, i.e., N(0,1), with 10 bins. Don't forget axis labels!**"
      ]
    },
    {
      "cell_type": "code",
      "metadata": {
        "id": "PjOL8IFEk_iE",
        "outputId": "bc91d684-1013-4fcc-e50e-f5e25eac249c",
        "colab": {
          "base_uri": "https://localhost:8080/",
          "height": 295
        }
      },
      "source": [
        "import matplotlib.pyplot as plt\n",
        "import numpy as np\n",
        "\n",
        "# use numpy to generate normal distribution\n",
        "n = np.random.standard_normal(2000)\n",
        "\n",
        "plt.hist(n, bins = 10)\n",
        "\n",
        "plt.title('Normal Distribution Histogram')\n",
        "plt.xlabel('Bins')\n",
        "plt.ylabel(\"Value\")\n",
        "plt.show()"
      ],
      "execution_count": 15,
      "outputs": [
        {
          "output_type": "display_data",
          "data": {
            "text/plain": [
              "<Figure size 432x288 with 1 Axes>"
            ],
            "image/png": "[encoded data removed]"
          },
          "metadata": {
            "needs_background": "light"
          }
        }
      ]
    },
    {
      "cell_type": "markdown",
      "metadata": {
        "id": "k62Bg9xwnLC4"
      },
      "source": [
        "**5) Generate a histogram of 2000 samples from an exponential distribution with beta = 2 (this is the mean of the distribution, also known as the scale parameter), with 10 bins. Don't forget axis labels! Use the random.exponential(scale=1.0, size=None) function. Make the histogram green in colour**"
      ]
    },
    {
      "cell_type": "code",
      "metadata": {
        "id": "53bEo9VJYE8M",
        "outputId": "638e57e8-0a18-47f1-a8c0-8b8e1058a0e7",
        "colab": {
          "base_uri": "https://localhost:8080/",
          "height": 295
        }
      },
      "source": [
        "import matplotlib.pyplot as plt\n",
        "import numpy as np\n",
        "\n",
        "# using numpy for exponential distribution\n",
        "n = np.random.exponential(scale = 2, size = 2000)\n",
        "\n",
        "# Histogram of green colour with 10 bins\n",
        "plt.hist(n, bins = 10, color = 'g')\n",
        "\n",
        "plt.title('Exponential dist hist')\n",
        "plt.xlabel('Bins')\n",
        "plt.ylabel('Value')\n",
        "plt.show()"
      ],
      "execution_count": 23,
      "outputs": [
        {
          "output_type": "display_data",
          "data": {
            "text/plain": [
              "<Figure size 432x288 with 1 Axes>"
            ],
            "image/png": "[encoded data removed]"
          },
          "metadata": {
            "needs_background": "light"
          }
        }
      ]
    },
    {
      "cell_type": "code",
      "metadata": {
        "id": "XocfDTzgeSRH"
      },
      "source": [],
      "execution_count": null,
      "outputs": []
    }
  ]
}
